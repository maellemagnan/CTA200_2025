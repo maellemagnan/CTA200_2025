{
 "cells": [
  {
   "cell_type": "markdown",
   "id": "27ebbb64",
   "metadata": {},
   "source": [
    "### Writing Functions"
   ]
  },
  {
   "cell_type": "code",
   "execution_count": 2,
   "id": "6e550e6e",
   "metadata": {},
   "outputs": [],
   "source": [
    "def f(x):\n",
    "    \"\"\"\n",
    "    Calculate the value of the function f(x) = x^3 - x^2 - 1.\n",
    "\n",
    "    Parameters:\n",
    "        x : array-like or float, the input value(s)\n",
    "\n",
    "    Returns:\n",
    "        f : float or array-like, output of the function.\n",
    "    \"\"\"\n",
    "    return x**3 - x**2 - 1"
   ]
  },
  {
   "cell_type": "code",
   "execution_count": 3,
   "id": "4b9db6af",
   "metadata": {},
   "outputs": [],
   "source": [
    "def df(x):\n",
    "    \"\"\"\n",
    "    Calculate the derivative of the function f(x) = x^3 - x^2 - 1.\n",
    "\n",
    "    The derivative is f'(x) = 3x^2 - 2x.\n",
    "\n",
    "    Parameters:\n",
    "        x : array-like or float, the input value(s)\n",
    "\n",
    "    Returns:\n",
    "        df : float or array-like, output of the derivative.\n",
    "    \"\"\"\n",
    "    return 3 * x**2 - 2 * x"
   ]
  },
  {
   "cell_type": "code",
   "execution_count": 4,
   "id": "8b0ea24c",
   "metadata": {},
   "outputs": [],
   "source": [
    "def newton(f, df, x0, epsilon=1e-6, max_iter=30):\n",
    "    \"\"\"\n",
    "    Use Newton's method to find a root of the function f.\n",
    "\n",
    "    Parameters:\n",
    "        f : function, The function for which the root is sought.\n",
    "        df : function, The derivative of the function f.\n",
    "        x0 : float, Initial guess for the root.\n",
    "        epsilon : float and optional, Tolerance for stopping criterion (default: 1e-6).\n",
    "        max_iter  : int and optional, Maximum number of iterations allowed (default: 30).\n",
    "\n",
    "    Returns:\n",
    "        float or None: The estimated root if convergence is successful, otherwise None.\n",
    "    \"\"\"\n",
    "    x = x0\n",
    "    for i in range(1, max_iter + 1):\n",
    "        fx = f(x)\n",
    "        dfx = df(x)\n",
    "        \n",
    "        if abs(fx) < epsilon:\n",
    "            print(f\"Found root in {i} iterations\")\n",
    "            return x\n",
    "        \n",
    "        if dfx == 0:\n",
    "            print(\"Derivative is zero. Iteration failed.\")\n",
    "            return None\n",
    "\n",
    "        x = x - fx / dfx\n",
    "\n",
    "    print(\"Iteration failed\")\n",
    "    return None\n"
   ]
  },
  {
   "cell_type": "markdown",
   "id": "e0be0b23",
   "metadata": {},
   "source": [
    "### Testing Functions and Examples\n"
   ]
  },
  {
   "cell_type": "code",
   "execution_count": 10,
   "id": "c85b38b3",
   "metadata": {},
   "outputs": [
    {
     "name": "stdout",
     "output_type": "stream",
     "text": [
      "Found root in 8 iterations\n",
      "Root found with x0=10 1.4655712402015129\n",
      "Iteration failed\n",
      "Root found with x0=-3: None\n"
     ]
    }
   ],
   "source": [
    "# Try with initial guess x0 = 10\n",
    "root1 = newton(f, df, x0=5)\n",
    "print(f\"Root found with x0=10\", root1)\n",
    "\n",
    "# Try with initial guess x0 = -3\n",
    "root2 = newton(f, df, x0=-3)\n",
    "print(f\"Root found with x0=-3:\", root2)"
   ]
  },
  {
   "cell_type": "markdown",
   "id": "edce2dbe",
   "metadata": {},
   "source": [
    "With an initial guess of x0=5, Newton’s method successfully found the root in 8 iterations. However, with x0=-3, the method failed to converge, likely due to poor starting position or a zero derivative along the path."
   ]
  },
  {
   "cell_type": "code",
   "execution_count": 14,
   "id": "a0fdbba8",
   "metadata": {},
   "outputs": [
    {
     "name": "stdout",
     "output_type": "stream",
     "text": [
      "Found root in 8 iterations\n",
      "Root with x0=5 and original epsilon: 1.4655712402015129\n",
      "Found root in 9 iterations\n",
      "Root with x0=5 and lower epsilon: 1.4655712318767682\n"
     ]
    }
   ],
   "source": [
    "# Using lower epsilon\n",
    "root3 = newton(f, df, x0=5, epsilon=1e-6)\n",
    "print(\"Root with x0=5 and original epsilon:\", root3)\n",
    "\n",
    "root3 = newton(f, df, x0=5, epsilon=1e-8)\n",
    "print(\"Root with x0=5 and lower epsilon:\", root3)"
   ]
  },
  {
   "cell_type": "markdown",
   "id": "8406af06",
   "metadata": {},
   "source": [
    "We see that using a lower epsilon still works for the same initial guess however it took one more iteration. This shows that increasing the precision required for finding a root can increase the number of iterations needed."
   ]
  }
 ],
 "metadata": {
  "kernelspec": {
   "display_name": "Python 3 (ipykernel)",
   "language": "python",
   "name": "python3"
  },
  "language_info": {
   "codemirror_mode": {
    "name": "ipython",
    "version": 3
   },
   "file_extension": ".py",
   "mimetype": "text/x-python",
   "name": "python",
   "nbconvert_exporter": "python",
   "pygments_lexer": "ipython3",
   "version": "3.11.5"
  }
 },
 "nbformat": 4,
 "nbformat_minor": 5
}
